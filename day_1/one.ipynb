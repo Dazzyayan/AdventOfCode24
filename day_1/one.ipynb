{
 "cells": [
  {
   "cell_type": "code",
   "execution_count": 13,
   "metadata": {},
   "outputs": [],
   "source": [
    "with open(\"input.txt\", \"r\") as file:\n",
    "    data = file.read().splitlines()\n",
    "    # data is two columns separated by three spaces\n",
    "    # split each line into two lists\n",
    "    data = [line.split(\"   \") for line in data]\n",
    "    list_1 = [int(x[0]) for x in data]\n",
    "    list_2 = [int(x[1]) for x in data]\n",
    "\n"
   ]
  },
  {
   "cell_type": "code",
   "execution_count": 14,
   "metadata": {},
   "outputs": [],
   "source": [
    "sorted_l1 = sorted(list_1)\n",
    "sorted_l2 = sorted(list_2)"
   ]
  },
  {
   "cell_type": "code",
   "execution_count": 16,
   "metadata": {},
   "outputs": [
    {
     "name": "stdout",
     "output_type": "stream",
     "text": [
      "1879048\n"
     ]
    }
   ],
   "source": [
    "import numpy as np\n",
    "distances = [np.abs(sorted_l1[i] - sorted_l2[i]) for i in range(len(sorted_l1))]\n",
    "print(sum(distances))"
   ]
  },
  {
   "cell_type": "markdown",
   "metadata": {},
   "source": [
    "# part 2"
   ]
  },
  {
   "cell_type": "code",
   "execution_count": 25,
   "metadata": {},
   "outputs": [
    {
     "name": "stdout",
     "output_type": "stream",
     "text": [
      "21024792\n"
     ]
    }
   ],
   "source": [
    "from collections import Counter\n",
    "similarities = []\n",
    "l2_count = Counter(sorted_l2)\n",
    "for id in sorted_l1:\n",
    "    occurences = l2_count[id]\n",
    "    similarities.append(id*occurences)\n",
    "    \n",
    "print(sum(similarities))"
   ]
  },
  {
   "cell_type": "code",
   "execution_count": null,
   "metadata": {},
   "outputs": [],
   "source": []
  }
 ],
 "metadata": {
  "kernelspec": {
   "display_name": "base",
   "language": "python",
   "name": "python3"
  },
  "language_info": {
   "codemirror_mode": {
    "name": "ipython",
    "version": 3
   },
   "file_extension": ".py",
   "mimetype": "text/x-python",
   "name": "python",
   "nbconvert_exporter": "python",
   "pygments_lexer": "ipython3",
   "version": "3.11.7"
  }
 },
 "nbformat": 4,
 "nbformat_minor": 2
}
