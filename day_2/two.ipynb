{
 "cells": [
  {
   "cell_type": "code",
   "execution_count": 1,
   "metadata": {},
   "outputs": [],
   "source": [
    "with open(\"input.txt\", \"r\") as file:\n",
    "    data = file.read().splitlines()\n",
    "    data = [line.split() for line in data]\n",
    "    data = [[int(x) for x in line] for line in data]\n"
   ]
  },
  {
   "cell_type": "code",
   "execution_count": 2,
   "metadata": {},
   "outputs": [],
   "source": [
    "def check_monotonic(list):\n",
    "    bools = [list[i] <= list[i+1] for i in range(len(list)-1)]\n",
    "    return all(bools) or not any(bools)\n"
   ]
  },
  {
   "cell_type": "code",
   "execution_count": 3,
   "metadata": {},
   "outputs": [],
   "source": [
    "def check_safe_change(list):\n",
    "    changes = [abs(list[i] - list[i+1]) for i in range(len(list)-1)]\n",
    "    safe = all(change < 4 and change > 0 for change in changes)\n",
    "    return safe"
   ]
  },
  {
   "cell_type": "code",
   "execution_count": 4,
   "metadata": {},
   "outputs": [
    {
     "name": "stdout",
     "output_type": "stream",
     "text": [
      "639\n"
     ]
    }
   ],
   "source": [
    "unsafe_count = 0\n",
    "for line in data:\n",
    "    if not check_monotonic(line):\n",
    "        unsafe_count += 1\n",
    "        continue\n",
    "    if not check_safe_change(line):\n",
    "        unsafe_count += 1\n",
    "print(len(data) - unsafe_count)\n"
   ]
  },
  {
   "cell_type": "markdown",
   "metadata": {},
   "source": [
    "## part 2\n"
   ]
  },
  {
   "cell_type": "code",
   "execution_count": 5,
   "metadata": {},
   "outputs": [],
   "source": [
    "unsafe_v2 = []\n",
    "for line in data:\n",
    "    if not check_monotonic(line):\n",
    "        unsafe_v2.append(line)\n",
    "        continue\n",
    "    if not check_safe_change(line):\n",
    "        unsafe_v2.append(line)\n"
   ]
  },
  {
   "cell_type": "code",
   "execution_count": 9,
   "metadata": {},
   "outputs": [
    {
     "name": "stdout",
     "output_type": "stream",
     "text": [
      "674\n"
     ]
    }
   ],
   "source": [
    "def single_damp(line):\n",
    "    for i in range(len(line)):\n",
    "        damped = [x for j, x in enumerate(line) if j != i]\n",
    "        if check_monotonic(damped) and check_safe_change(damped):\n",
    "            return True\n",
    "    return False\n",
    "\n",
    "unsafe_v3 = []\n",
    "for line in unsafe_v2:\n",
    "    if not single_damp(line):\n",
    "        unsafe_v3.append(line)\n",
    "\n",
    "print(len(data) - len(unsafe_v3))"
   ]
  },
  {
   "cell_type": "markdown",
   "metadata": {},
   "source": []
  },
  {
   "cell_type": "code",
   "execution_count": 10,
   "metadata": {},
   "outputs": [
    {
     "name": "stdout",
     "output_type": "stream",
     "text": [
      "True\n",
      "False\n",
      "False\n",
      "True\n",
      "True\n",
      "True\n"
     ]
    }
   ],
   "source": [
    "test_cases = [\n",
    "    [7, 6, 4, 2, 1],\n",
    "    [1, 2, 7, 8, 9],\n",
    "    [9, 7, 6, 2, 1],\n",
    "    [1, 3, 2, 4, 5],\n",
    "    [8, 6, 4, 4, 1],\n",
    "    [1, 3, 6, 7, 9]\n",
    "]\n",
    "for test in test_cases:\n",
    "    print(single_damp(test))"
   ]
  },
  {
   "cell_type": "code",
   "execution_count": null,
   "metadata": {},
   "outputs": [],
   "source": []
  }
 ],
 "metadata": {
  "kernelspec": {
   "display_name": "base",
   "language": "python",
   "name": "python3"
  },
  "language_info": {
   "codemirror_mode": {
    "name": "ipython",
    "version": 3
   },
   "file_extension": ".py",
   "mimetype": "text/x-python",
   "name": "python",
   "nbconvert_exporter": "python",
   "pygments_lexer": "ipython3",
   "version": "3.11.7"
  }
 },
 "nbformat": 4,
 "nbformat_minor": 2
}
