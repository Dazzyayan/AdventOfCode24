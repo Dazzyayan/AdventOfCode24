{
 "cells": [
  {
   "cell_type": "code",
   "execution_count": 13,
   "metadata": {},
   "outputs": [],
   "source": [
    "with open(\"input.txt\", \"r\") as file:\n",
    "    data = file.read().splitlines()\n",
    "    data = [line.split() for line in data]\n",
    "    data = [[int(x) for x in line] for line in data]\n"
   ]
  },
  {
   "cell_type": "code",
   "execution_count": 14,
   "metadata": {},
   "outputs": [],
   "source": [
    "def check_monotonic(list):\n",
    "    bools = [list[i] <= list[i+1] for i in range(len(list)-1)]\n",
    "    return all(bools) or not any(bools)\n"
   ]
  },
  {
   "cell_type": "code",
   "execution_count": 15,
   "metadata": {},
   "outputs": [],
   "source": [
    "def check_safe_change(list):\n",
    "    changes = [abs(list[i] - list[i+1]) for i in range(len(list)-1)]\n",
    "    safe = all(change < 4 and change > 0 for change in changes)\n",
    "    return safe"
   ]
  },
  {
   "cell_type": "code",
   "execution_count": 17,
   "metadata": {},
   "outputs": [
    {
     "name": "stdout",
     "output_type": "stream",
     "text": [
      "639\n"
     ]
    }
   ],
   "source": [
    "unsafe_count = 0\n",
    "for line in data:\n",
    "    if not check_monotonic(line):\n",
    "        unsafe_count += 1\n",
    "        continue\n",
    "    if not check_safe_change(line):\n",
    "        unsafe_count += 1\n",
    "print(len(data) - unsafe_count)\n"
   ]
  },
  {
   "cell_type": "markdown",
   "metadata": {},
   "source": [
    "## part 2\n"
   ]
  },
  {
   "cell_type": "markdown",
   "metadata": {},
   "source": []
  }
 ],
 "metadata": {
  "kernelspec": {
   "display_name": "base",
   "language": "python",
   "name": "python3"
  },
  "language_info": {
   "codemirror_mode": {
    "name": "ipython",
    "version": 3
   },
   "file_extension": ".py",
   "mimetype": "text/x-python",
   "name": "python",
   "nbconvert_exporter": "python",
   "pygments_lexer": "ipython3",
   "version": "3.11.7"
  }
 },
 "nbformat": 4,
 "nbformat_minor": 2
}
